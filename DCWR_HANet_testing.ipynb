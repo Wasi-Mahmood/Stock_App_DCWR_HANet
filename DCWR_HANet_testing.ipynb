{
 "cells": [
  {
   "cell_type": "code",
   "execution_count": 13,
   "metadata": {},
   "outputs": [
    {
     "name": "stderr",
     "output_type": "stream",
     "text": [
      "C:\\Users\\Abdul\\AppData\\Roaming\\Python\\Python38\\site-packages\\spacy\\util.py:837: UserWarning: [W095] Model 'en_core_web_lg' (3.4.0) was trained with spaCy v3.4 and may not be 100% compatible with the current version (3.3.1). If you see errors or degraded performance, download a newer compatible model or retrain your custom model with the current spaCy version. For more details and available updates, run: python -m spacy validate\n",
      "  warnings.warn(warn_msg)\n"
     ]
    }
   ],
   "source": [
    "from text_preprocessing import preprocessing, dataset_preprocessing"
   ]
  },
  {
   "cell_type": "code",
   "execution_count": 14,
   "metadata": {},
   "outputs": [],
   "source": [
    "import pandas as pd\n",
    "df2 = pd.read_csv('E:\\Semesters\\Fyp prepation\\Data_preprocessing\\Data_searching\\Apple_dataset.csv', index_col= False)\n",
    "df2.dropna(inplace=True)\n",
    "df2.reset_index(drop=True, inplace=True)\n"
   ]
  },
  {
   "cell_type": "code",
   "execution_count": null,
   "metadata": {},
   "outputs": [],
   "source": [
    "artical_lis = dataset_preprocessing(df2, 'Artical')"
   ]
  },
  {
   "cell_type": "code",
   "execution_count": 1,
   "metadata": {},
   "outputs": [],
   "source": [
    "import tensorflow as tf\n",
    "\n",
    "# Load SavedModel format of ELMO model\n",
    "elmo = tf.saved_model.load(r'E:\\Semesters\\Fyp prepation\\ELMO')"
   ]
  },
  {
   "cell_type": "code",
   "execution_count": 62,
   "metadata": {},
   "outputs": [],
   "source": [
    "sess =  tf.compat.v1.Session()\n"
   ]
  },
  {
   "cell_type": "code",
   "execution_count": 146,
   "metadata": {},
   "outputs": [],
   "source": [
    "# import pickle\n",
    "# with open(\"AAPL_articals_list\",\"wb\") as f:\n",
    "#     pickle.dump(artical_lis,f)"
   ]
  },
  {
   "cell_type": "code",
   "execution_count": 2,
   "metadata": {},
   "outputs": [],
   "source": [
    "import pickle\n",
    "with open(r'AAPL_articals_list','rb') as f:\n",
    "    list_art = pickle.load(f)"
   ]
  },
  {
   "cell_type": "code",
   "execution_count": 3,
   "metadata": {},
   "outputs": [
    {
     "data": {
      "text/plain": [
       "['Apple Inc. ’s London store be buzz as blue shirt sale assistant scuttle between two floor',\n",
       " 'on the opposite side of Regent Street black plastic obscure Nokia Oyj ’s fail attempt at a U.K. flagship outlet',\n",
       " 'I ’d definitely pay more for Apple than Nokia say 24- year old London student Federico Crosato while check out Apple ’s iPhone',\n",
       " 'I need a phone that ’ fast that do not crash that have the flexibility',\n",
       " 'the must have brand a decade ago Nokia be slash phone price and sacrifice profitability after fail to develop a device with the same appeal as the iPhone or Research in Motion Inc. ’s BlackBerry',\n",
       " 'the finnish company have reduce the average price for a smartphone 18 percent in the last nine month as consumer be unwilling to pay top dollar',\n",
       " 'unfortunately it ’ not Mercedes Benz or BMW that I think of when I think of they today Carolina Milanesi an Egham u.k.-based analyst at Gartner Inc. say of Nokia',\n",
       " 'Ford be what come to mind',\n",
       " 'reliable not expensive and I get a bit more than I pay for',\n",
       " '',\n",
       " 'that mean Espoo Finland base Nokia can no long demand premium price for its handset',\n",
       " 'the company charge on average 155 euro in the first quarter for a smartphone down from 190 euro in the third quarter squeeze profit',\n",
       " 'Apple earn an average of $ 622 per iPhone in the second quarter include service and product',\n",
       " '',\n",
       " 'forecast cut Nokia yesterday report first quarter earning that miss analyst estimate and cut its margin target send the stock down 14 percent',\n",
       " 'it now expect an adjusted operating margin for the handset unit of between 11 percent and 13 percent down from 12 percent to 14 percent',\n",
       " 'the margin may be as low as 9 percent this quarter',\n",
       " '',\n",
       " 'price decline will continue for the moment until they get a whole new high end platform say Tero Kuittinen an analyst at Greenwich Connecticut base MKM Partners who recommend sell the share',\n",
       " 'with the current model price erosion be inevitable',\n",
       " 'Nokia be not the only company suffer from the ascent of the iPhone',\n",
       " 'Motorola Inc. the large U.S. mobile phone maker unexpectedly forecast a first quarter loss in January signal new handset be fail to boost sale',\n",
       " 'Sony Ericsson Mobile Communications AB be struggle to keep its place in the top five mobile phone maker as rival race to roll out mass market product with software comparable with the iPhone',\n",
       " 'the company be now roll out touchscreen use Google Inc. ’s Android software',\n",
       " '',\n",
       " 'lost appeal the hit brand after its sleek 8110 model appear in the movie the Matrix Nokia have be on a downward trajectory since soon after Apple launch the iPhone in 2007',\n",
       " 'Nokia ’s average selling price for all model have plummet 44 percent in the last five year to 62 euros',\n",
       " 'one of the big problem be that Nokia have evolve into a company that ’ no long a technology leader say Boris Boehm who help manage 1 billion euro at Aramea Asset Management in Hamburg include Nokia share',\n",
       " '',\n",
       " 'investor have punish it accordingly',\n",
       " 'in 1999 Nokia have the high market value of any european company 203 billion euro $ 270 billion',\n",
       " 'yesterday the company be worth 36.3 billion euro',\n",
       " 'Apple ’s current market value be $ 236 billion',\n",
       " 'Nokia Chief Executive Officer Olli Pekka Kallasvuo have delay the plan rollout of new high end phone say yesterday that smartphone with the new version of the symbian operating system will be announce in the second quarter and ship in the third quarter',\n",
       " 'product delay they ’ve have product delay across the board while Apple be stack up substantial gain say Alexander Peterc a Paris base analyst at Exane BNP Paribas',\n",
       " 'even if Nokia come out with some device in the second half and they ’re pretty damn revolutionary it will be hard for they to compete',\n",
       " '',\n",
       " 'Apple say April 20 iPhone sale more than double to 8.75 million handset in the quarter end in March as new carrier sign on in Europe and Asia',\n",
       " 'the Cupertino California base company report a 49 percent sale increase and a 90 percent net income gain',\n",
       " 'still Nokia have size on its side sell 108 million phone last quarter a 16 percent increase from a year ago',\n",
       " 'the company which have battle back before may be just a hit phone away from a price rebound',\n",
       " '',\n",
       " 'Kallasvuo yesterday vow to fight back with product that be more intuitive fun and fast',\n",
       " 'chase iPhone one product do not change the landscape but it get they back in the game Jason Willey a London base analyst at Standard Poor ’s Equity Research',\n",
       " 'if you look over a long timeframe player have come and go',\n",
       " 'the one constant have be Nokia',\n",
       " '',\n",
       " 'back on Regent Street the Nokia sign be go from the store one of three flagship the company close early this year',\n",
       " 'on the other side of the city ’s main shopping promenade Matej Timko a 24 year old waiter be debate whether to buy an iPhone or the new Google device',\n",
       " 'they ’re worth the extra money he say',\n",
       " '',\n",
       " 'to contact the reporter on this story Diana ben Aaron in Helsinki at dbenaaron1@bloomberg.net Matthew Campbell in London at mcampbell39@bloomberg.net Howard Mustoe in London at hmustoe@bloomberg.net',\n",
       " '',\n",
       " \"enlarge image Nokia E72 Simon Dawson Bloomberg Nokia 's E72 mobile handset be hold by a customer at a Phones 4U store in London U.K. on April 22 2010\",\n",
       " '',\n",
       " \"Nokia 's E72 mobile handset be hold by a customer at a Phones 4U store in London U.K. on April 22 2010\",\n",
       " 'photographer Simon Dawson Bloomberg //<![CDATA $ document).ready(function $ .view_story story_content .attachment img.small_img\").each(function var self = $ this if self.width',\n",
       " '= 190 self.width(190',\n",
       " '>']"
      ]
     },
     "execution_count": 3,
     "metadata": {},
     "output_type": "execute_result"
    }
   ],
   "source": [
    "list_art[5]"
   ]
  },
  {
   "cell_type": "code",
   "execution_count": 6,
   "metadata": {},
   "outputs": [],
   "source": [
    "import tensorflow_hub as hub\n"
   ]
  },
  {
   "cell_type": "code",
   "execution_count": 4,
   "metadata": {},
   "outputs": [
    {
     "data": {
      "text/plain": [
       "'2.9.1'"
      ]
     },
     "execution_count": 4,
     "metadata": {},
     "output_type": "execute_result"
    }
   ],
   "source": [
    "tf.__version__"
   ]
  },
  {
   "cell_type": "code",
   "execution_count": 8,
   "metadata": {},
   "outputs": [
    {
     "data": {
      "text/plain": [
       "'0.12.0'"
      ]
     },
     "execution_count": 8,
     "metadata": {},
     "output_type": "execute_result"
    }
   ],
   "source": [
    "hub.__version__"
   ]
  },
  {
   "cell_type": "code",
   "execution_count": 24,
   "metadata": {},
   "outputs": [
    {
     "ename": "RuntimeError",
     "evalue": "variable_scope module_3/ was unused but the corresponding name_scope was already taken.",
     "output_type": "error",
     "traceback": [
      "\u001b[1;31m---------------------------------------------------------------------------\u001b[0m",
      "\u001b[1;31mRuntimeError\u001b[0m                              Traceback (most recent call last)",
      "\u001b[1;32m<ipython-input-24-9ea562207ff1>\u001b[0m in \u001b[0;36m<module>\u001b[1;34m\u001b[0m\n\u001b[1;32m----> 1\u001b[1;33m \u001b[0melmo1\u001b[0m \u001b[1;33m=\u001b[0m \u001b[0mhub\u001b[0m\u001b[1;33m.\u001b[0m\u001b[0mModule\u001b[0m\u001b[1;33m(\u001b[0m\u001b[1;34m\"https://tfhub.dev/google/elmo/3\"\u001b[0m\u001b[1;33m,\u001b[0m \u001b[0mtrainable\u001b[0m\u001b[1;33m=\u001b[0m\u001b[1;32mTrue\u001b[0m\u001b[1;33m)\u001b[0m\u001b[1;33m\u001b[0m\u001b[1;33m\u001b[0m\u001b[0m\n\u001b[0m",
      "\u001b[1;32mc:\\Users\\Abdul\\anaconda3\\lib\\site-packages\\tensorflow_hub\\module.py\u001b[0m in \u001b[0;36m__init__\u001b[1;34m(self, spec, trainable, name, tags)\u001b[0m\n\u001b[0;32m    163\u001b[0m       \u001b[1;32mraise\u001b[0m \u001b[0mValueError\u001b[0m\u001b[1;33m(\u001b[0m\u001b[1;34m\"No such graph variant: tags=%r\"\u001b[0m \u001b[1;33m%\u001b[0m \u001b[0mtags\u001b[0m\u001b[1;33m)\u001b[0m\u001b[1;33m\u001b[0m\u001b[1;33m\u001b[0m\u001b[0m\n\u001b[0;32m    164\u001b[0m \u001b[1;33m\u001b[0m\u001b[0m\n\u001b[1;32m--> 165\u001b[1;33m     \u001b[0mabs_state_scope\u001b[0m \u001b[1;33m=\u001b[0m \u001b[0m_try_get_state_scope\u001b[0m\u001b[1;33m(\u001b[0m\u001b[0mname\u001b[0m\u001b[1;33m,\u001b[0m \u001b[0mmark_name_scope_used\u001b[0m\u001b[1;33m=\u001b[0m\u001b[1;32mFalse\u001b[0m\u001b[1;33m)\u001b[0m\u001b[1;33m\u001b[0m\u001b[1;33m\u001b[0m\u001b[0m\n\u001b[0m\u001b[0;32m    166\u001b[0m     \u001b[0mself\u001b[0m\u001b[1;33m.\u001b[0m\u001b[0m_name\u001b[0m \u001b[1;33m=\u001b[0m \u001b[0mabs_state_scope\u001b[0m\u001b[1;33m.\u001b[0m\u001b[0msplit\u001b[0m\u001b[1;33m(\u001b[0m\u001b[1;34m\"/\"\u001b[0m\u001b[1;33m)\u001b[0m\u001b[1;33m[\u001b[0m\u001b[1;33m-\u001b[0m\u001b[1;36m2\u001b[0m\u001b[1;33m]\u001b[0m\u001b[1;33m\u001b[0m\u001b[1;33m\u001b[0m\u001b[0m\n\u001b[0;32m    167\u001b[0m \u001b[1;33m\u001b[0m\u001b[0m\n",
      "\u001b[1;32mc:\\Users\\Abdul\\anaconda3\\lib\\site-packages\\tensorflow_hub\\module.py\u001b[0m in \u001b[0;36m_try_get_state_scope\u001b[1;34m(name, mark_name_scope_used)\u001b[0m\n\u001b[0;32m    399\u001b[0m     \u001b[0munique_name_scope\u001b[0m \u001b[1;33m=\u001b[0m \u001b[0mgraph\u001b[0m\u001b[1;33m.\u001b[0m\u001b[0munique_name\u001b[0m\u001b[1;33m(\u001b[0m\u001b[0mname\u001b[0m\u001b[1;33m,\u001b[0m \u001b[0mmark_name_scope_used\u001b[0m\u001b[1;33m)\u001b[0m \u001b[1;33m+\u001b[0m \u001b[1;34m\"/\"\u001b[0m\u001b[1;33m\u001b[0m\u001b[1;33m\u001b[0m\u001b[0m\n\u001b[0;32m    400\u001b[0m     \u001b[1;32mif\u001b[0m \u001b[0munique_name_scope\u001b[0m \u001b[1;33m!=\u001b[0m \u001b[0mabs_state_scope\u001b[0m\u001b[1;33m:\u001b[0m\u001b[1;33m\u001b[0m\u001b[1;33m\u001b[0m\u001b[0m\n\u001b[1;32m--> 401\u001b[1;33m       raise RuntimeError(\n\u001b[0m\u001b[0;32m    402\u001b[0m           \u001b[1;34m\"variable_scope %s was unused but the corresponding \"\u001b[0m\u001b[1;33m\u001b[0m\u001b[1;33m\u001b[0m\u001b[0m\n\u001b[0;32m    403\u001b[0m           \"name_scope was already taken.\" % abs_state_scope)\n",
      "\u001b[1;31mRuntimeError\u001b[0m: variable_scope module_3/ was unused but the corresponding name_scope was already taken."
     ]
    }
   ],
   "source": [
    "elmo1 = hub.Module(\"https://tfhub.dev/google/elmo/3\", trainable=True)\n"
   ]
  },
  {
   "cell_type": "code",
   "execution_count": 25,
   "metadata": {},
   "outputs": [
    {
     "ename": "TypeError",
     "evalue": "'AutoTrackable' object is not callable",
     "output_type": "error",
     "traceback": [
      "\u001b[1;31m---------------------------------------------------------------------------\u001b[0m",
      "\u001b[1;31mTypeError\u001b[0m                                 Traceback (most recent call last)",
      "\u001b[1;32m<ipython-input-25-0c6ff86dc07f>\u001b[0m in \u001b[0;36m<module>\u001b[1;34m\u001b[0m\n\u001b[1;32m----> 1\u001b[1;33m embeddings = elmo1(\n\u001b[0m\u001b[0;32m      2\u001b[0m     \u001b[0mlist_art\u001b[0m\u001b[1;33m[\u001b[0m\u001b[1;36m5\u001b[0m\u001b[1;33m]\u001b[0m\u001b[1;33m,\u001b[0m\u001b[1;33m\u001b[0m\u001b[1;33m\u001b[0m\u001b[0m\n\u001b[0;32m      3\u001b[0m     \u001b[0msignature\u001b[0m\u001b[1;33m=\u001b[0m\u001b[1;34m\"default\"\u001b[0m\u001b[1;33m,\u001b[0m\u001b[1;33m\u001b[0m\u001b[1;33m\u001b[0m\u001b[0m\n\u001b[0;32m      4\u001b[0m     as_dict=True)[\"elmo\"]\n",
      "\u001b[1;31mTypeError\u001b[0m: 'AutoTrackable' object is not callable"
     ]
    }
   ],
   "source": [
    "embeddings = elmo1(\n",
    "    list_art[5],\n",
    "    signature=\"default\",\n",
    "    as_dict=True)[\"elmo\"]"
   ]
  },
  {
   "cell_type": "code",
   "execution_count": 23,
   "metadata": {},
   "outputs": [
    {
     "name": "stdout",
     "output_type": "stream",
     "text": [
      "Tensor(\"module_1_apply_default/aggregation/mul_3:0\", shape=(59, 43, 1024), dtype=float32)\n"
     ]
    }
   ],
   "source": [
    "import numpy\n",
    "print(embeddings)\n"
   ]
  },
  {
   "cell_type": "code",
   "execution_count": 7,
   "metadata": {},
   "outputs": [
    {
     "name": "stdout",
     "output_type": "stream",
     "text": [
      "(59, 43, 1024)\n",
      "[[[-0.74036115 -0.2672006   0.18574995 ... -0.2704036  -0.55226034\n",
      "    0.15561624]\n",
      "  [-0.8275553  -0.10575889 -0.1860547  ... -0.0493335  -0.9725033\n",
      "    0.80768466]\n",
      "  [-0.34743798  0.20659815 -0.40566543 ... -0.19575602 -0.02982366\n",
      "    0.56127   ]\n",
      "  ...\n",
      "  [-0.0284084  -0.04353216  0.04130162 ...  0.02583168 -0.01429836\n",
      "   -0.01650422]\n",
      "  [-0.0284084  -0.04353216  0.04130162 ...  0.02583168 -0.01429836\n",
      "   -0.01650422]\n",
      "  [-0.0284084  -0.04353216  0.04130162 ...  0.02583168 -0.01429836\n",
      "   -0.01650422]]\n",
      "\n",
      " [[ 0.5104079   0.4294511  -0.41010618 ... -0.7071742  -0.24076785\n",
      "    0.1636389 ]\n",
      "  [ 0.17029905  0.19693506 -0.31241322 ...  0.3712055   0.11368735\n",
      "   -0.14942774]\n",
      "  [-0.07983661  0.447612   -0.48148966 ... -0.26122305  0.16714253\n",
      "   -0.15235251]\n",
      "  ...\n",
      "  [-0.0284084  -0.04353216  0.04130162 ...  0.02583168 -0.01429836\n",
      "   -0.01650422]\n",
      "  [-0.0284084  -0.04353216  0.04130162 ...  0.02583168 -0.01429836\n",
      "   -0.01650422]\n",
      "  [-0.0284084  -0.04353216  0.04130162 ...  0.02583168 -0.01429836\n",
      "   -0.01650422]]\n",
      "\n",
      " [[-1.2254355  -0.5600416  -0.17601362 ... -0.19332239 -0.51774347\n",
      "    0.02947004]\n",
      "  [ 0.10749223 -0.13544467 -0.02306015 ... -0.2246761  -0.38720262\n",
      "    0.14795586]\n",
      "  [-0.3560667  -0.43975076  0.2692052  ... -0.13066772  0.11973093\n",
      "    0.24753025]\n",
      "  ...\n",
      "  [-0.0284084  -0.04353216  0.04130162 ...  0.02583168 -0.01429836\n",
      "   -0.01650422]\n",
      "  [-0.0284084  -0.04353216  0.04130162 ...  0.02583168 -0.01429836\n",
      "   -0.01650422]\n",
      "  [-0.0284084  -0.04353216  0.04130162 ...  0.02583168 -0.01429836\n",
      "   -0.01650422]]\n",
      "\n",
      " ...\n",
      "\n",
      " [[-0.1468354  -0.37901902 -0.3825956  ...  0.0989933  -0.26442674\n",
      "    0.3732051 ]\n",
      "  [-0.1563259  -0.34781757  0.21249881 ...  0.20978831 -0.09173473\n",
      "   -0.13550486]\n",
      "  [-0.4114946  -0.41511875  0.26174834 ... -0.18923922  0.13843022\n",
      "   -0.32802776]\n",
      "  ...\n",
      "  [-0.0284084  -0.04353216  0.04130162 ...  0.02583168 -0.01429836\n",
      "   -0.01650422]\n",
      "  [-0.0284084  -0.04353216  0.04130162 ...  0.02583168 -0.01429836\n",
      "   -0.01650422]\n",
      "  [-0.0284084  -0.04353216  0.04130162 ...  0.02583168 -0.01429836\n",
      "   -0.01650422]]\n",
      "\n",
      " [[-0.24873975 -0.08950707 -0.34351516 ...  0.938218   -0.26417297\n",
      "    0.83878374]\n",
      "  [-0.3154816   0.01510731  0.22340213 ...  0.21610755 -0.9942204\n",
      "   -0.18013634]\n",
      "  [-0.22754036 -0.17728034 -0.19178246 ... -0.17589098  0.11656708\n",
      "   -0.31471854]\n",
      "  ...\n",
      "  [-0.0284084  -0.04353216  0.04130162 ...  0.02583168 -0.01429836\n",
      "   -0.01650422]\n",
      "  [-0.0284084  -0.04353216  0.04130162 ...  0.02583168 -0.01429836\n",
      "   -0.01650422]\n",
      "  [-0.0284084  -0.04353216  0.04130162 ...  0.02583168 -0.01429836\n",
      "   -0.01650422]]\n",
      "\n",
      " [[ 0.6803129  -0.13242543 -0.7323952  ... -0.3923319  -0.09911676\n",
      "    0.7912947 ]\n",
      "  [-0.0284084  -0.04353216  0.04130162 ...  0.02583168 -0.01429836\n",
      "   -0.01650422]\n",
      "  [-0.0284084  -0.04353216  0.04130162 ...  0.02583168 -0.01429836\n",
      "   -0.01650422]\n",
      "  ...\n",
      "  [-0.0284084  -0.04353216  0.04130162 ...  0.02583168 -0.01429836\n",
      "   -0.01650422]\n",
      "  [-0.0284084  -0.04353216  0.04130162 ...  0.02583168 -0.01429836\n",
      "   -0.01650422]\n",
      "  [-0.0284084  -0.04353216  0.04130162 ...  0.02583168 -0.01429836\n",
      "   -0.01650422]]]\n"
     ]
    }
   ],
   "source": [
    "with tf.compat.v1.Session() as sess:\n",
    "    sess.run(tf.compat.v1.global_variables_initializer())\n",
    "    sess.run(tf.compat.v1.tables_initializer())\n",
    "    embeddings = sess.run(embeddings)\n",
    "    print(embeddings.shape)\n",
    "    print(embeddings)"
   ]
  },
  {
   "cell_type": "code",
   "execution_count": 34,
   "metadata": {},
   "outputs": [],
   "source": [
    "import tensorflow as tf\n",
    "# create a tensor\n",
    "x = tf.constant([[1, 2, 3],[57,88,9]])\n",
    "\n",
    "# x.numpy()"
   ]
  },
  {
   "cell_type": "code",
   "execution_count": 35,
   "metadata": {},
   "outputs": [
    {
     "data": {
      "text/plain": [
       "'2.9.1'"
      ]
     },
     "execution_count": 35,
     "metadata": {},
     "output_type": "execute_result"
    }
   ],
   "source": [
    "tf.__version__"
   ]
  },
  {
   "cell_type": "code",
   "execution_count": 28,
   "metadata": {},
   "outputs": [
    {
     "ename": "TypeError",
     "evalue": "load() got an unexpected keyword argument 'trainable'",
     "output_type": "error",
     "traceback": [
      "\u001b[1;31m---------------------------------------------------------------------------\u001b[0m",
      "\u001b[1;31mTypeError\u001b[0m                                 Traceback (most recent call last)",
      "\u001b[1;32m<ipython-input-28-c550d8350f30>\u001b[0m in \u001b[0;36m<module>\u001b[1;34m\u001b[0m\n\u001b[0;32m      3\u001b[0m \u001b[1;33m\u001b[0m\u001b[0m\n\u001b[0;32m      4\u001b[0m \u001b[1;31m# Load the ELMo model\u001b[0m\u001b[1;33m\u001b[0m\u001b[1;33m\u001b[0m\u001b[1;33m\u001b[0m\u001b[0m\n\u001b[1;32m----> 5\u001b[1;33m \u001b[0melmo\u001b[0m \u001b[1;33m=\u001b[0m \u001b[0mhub\u001b[0m\u001b[1;33m.\u001b[0m\u001b[0mload\u001b[0m\u001b[1;33m(\u001b[0m\u001b[1;34m\"https://tfhub.dev/google/elmo/3\"\u001b[0m\u001b[1;33m,\u001b[0m\u001b[0mtrainable\u001b[0m\u001b[1;33m=\u001b[0m\u001b[1;32mTrue\u001b[0m\u001b[1;33m)\u001b[0m\u001b[1;33m\u001b[0m\u001b[1;33m\u001b[0m\u001b[0m\n\u001b[0m\u001b[0;32m      6\u001b[0m \u001b[1;33m\u001b[0m\u001b[0m\n\u001b[0;32m      7\u001b[0m \u001b[1;31m# Get the embeddings for a list of sentences\u001b[0m\u001b[1;33m\u001b[0m\u001b[1;33m\u001b[0m\u001b[1;33m\u001b[0m\u001b[0m\n",
      "\u001b[1;31mTypeError\u001b[0m: load() got an unexpected keyword argument 'trainable'"
     ]
    }
   ],
   "source": [
    "import tensorflow_hub as hub\n",
    "import tensorflow as tf\n",
    "\n",
    "# Load the ELMo model\n",
    "elmo = hub.load(\"https://tfhub.dev/google/elmo/3\",trainable=True)\n",
    "\n",
    "# Get the embeddings for a list of sentences\n",
    "sentences = [\"the cat is on the mat\", \"dogs are in the fog\"]\n",
    "embeddings = elmo(sentences, signature=\"default\", as_dict=True)[\"elmo\"]\n",
    "\n",
    "# Print the shape of the embeddings tensor\n",
    "print(embeddings.shape)\n",
    "\n",
    "# Print the embeddings values\n",
    "print(embeddings.numpy())\n"
   ]
  }
 ],
 "metadata": {
  "kernelspec": {
   "display_name": "base",
   "language": "python",
   "name": "python3"
  },
  "language_info": {
   "codemirror_mode": {
    "name": "ipython",
    "version": 3
   },
   "file_extension": ".py",
   "mimetype": "text/x-python",
   "name": "python",
   "nbconvert_exporter": "python",
   "pygments_lexer": "ipython3",
   "version": "3.8.5"
  },
  "orig_nbformat": 4,
  "vscode": {
   "interpreter": {
    "hash": "30424d9308010dafecca22b5ec9402eef0e44005ea326a16069b35614aa41d25"
   }
  }
 },
 "nbformat": 4,
 "nbformat_minor": 2
}
